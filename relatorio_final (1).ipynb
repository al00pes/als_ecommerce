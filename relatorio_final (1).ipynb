{
 "cells": [
  {
   "cell_type": "code",
   "execution_count": 189,
   "id": "18949055-78a1-442d-a48b-2f475f13b649",
   "metadata": {},
   "outputs": [],
   "source": [
    "#Importando as bibliotecas\n",
    "import warnings\n",
    "warnings.filterwarnings('ignore')\n",
    "#pandas\n",
    "import pandas as pd \n",
    "\n",
    "import matplotlib.pyplot as plt\n",
    "import matplotlib as mpl\n",
    "import locale\n",
    "\n"
   ]
  },
  {
   "cell_type": "code",
   "execution_count": 190,
   "id": "0e6d7c4e-9f0c-4519-8d21-dd4837921c94",
   "metadata": {},
   "outputs": [],
   "source": [
    "#importando o dataset\n",
    "\n",
    "#Dataset \n",
    "df_pacotes_entregues = pd.read_csv('./01_20022024_cpf.csv',delimiter=';')\n"
   ]
  },
  {
   "cell_type": "code",
   "execution_count": 191,
   "id": "25b1e628-db5f-418e-980c-6ec2d724002b",
   "metadata": {
    "tags": []
   },
   "outputs": [],
   "source": [
    "#df_pacotes_entregues.drop_duplicates(subset=['id_pacotes'],inplace=True)\n",
    "\n",
    "#df_pacotes_entregues['id_pacotes'] = df_pacotes_entregues['id_pacotes'].astype(str)\n",
    "\n",
    "#df_pacotes_entregues.head()"
   ]
  },
  {
   "cell_type": "code",
   "execution_count": 192,
   "id": "ed33a56f-3a89-456d-9058-d6ce33a81fcf",
   "metadata": {},
   "outputs": [
    {
     "data": {
      "text/plain": [
       "(425089, 11)"
      ]
     },
     "execution_count": 192,
     "metadata": {},
     "output_type": "execute_result"
    }
   ],
   "source": [
    "#Verificando a dimensão\n",
    "\n",
    "df_pacotes_entregues.shape"
   ]
  },
  {
   "cell_type": "code",
   "execution_count": 193,
   "id": "16fc6992-b407-403f-abff-8996188e3e2a",
   "metadata": {
    "tags": []
   },
   "outputs": [
    {
     "name": "stdout",
     "output_type": "stream",
     "text": [
      "<class 'pandas.core.frame.DataFrame'>\n",
      "RangeIndex: 425089 entries, 0 to 425088\n",
      "Data columns (total 11 columns):\n",
      " #   Column               Non-Null Count   Dtype \n",
      "---  ------               --------------   ----- \n",
      " 0   id_pacote            425089 non-null  int64 \n",
      " 1   galpao               425089 non-null  object\n",
      " 2   CNPJ                 425089 non-null  int64 \n",
      " 3   entregador           425089 non-null  object\n",
      " 4   Marca de assinatura  425089 non-null  object\n",
      " 5   Valor Mercadoria     425089 non-null  object\n",
      " 6   CEP destino          425089 non-null  int64 \n",
      " 7   cidade               425089 non-null  object\n",
      " 8   bairro               425053 non-null  object\n",
      " 9   cliente              425089 non-null  object\n",
      " 10  Horário da entrega   425089 non-null  object\n",
      "dtypes: int64(3), object(8)\n",
      "memory usage: 35.7+ MB\n"
     ]
    }
   ],
   "source": [
    "df_pacotes_entregues.info()"
   ]
  },
  {
   "cell_type": "markdown",
   "id": "a1e36e13-b926-4a9b-be60-139cb1e5edec",
   "metadata": {},
   "source": [
    "### Verificando os nulos\n",
    "\n",
    "df_pacotes_entregues.isnull().sum()"
   ]
  },
  {
   "cell_type": "code",
   "execution_count": 194,
   "id": "b590d826-4195-4195-b97d-d36edf3c785d",
   "metadata": {},
   "outputs": [],
   "source": [
    "df_pacotes_entregues.rename(columns={'id_pacote':'ID_PACOTE',\n",
    "                                     'galpao':'GALPAO',\n",
    "                                     'entregador':'ENTREGADOR',\n",
    "                                     'Valor Mercadoria':'VALOR_MERCADORIA',\n",
    "                                     'CEP destino':'CEP',\n",
    "                                     'Marca de assinatura':'ASSINATURA',\n",
    "                                     'Endereço completo':'ENDERECO_COMPLETO',\n",
    "                                     'cidade':'CIDADE',\n",
    "                                     'bairro':'BAIRRO',\n",
    "                                     'cliente':'DESTINATARIO',\n",
    "                                     'Horário da entrega':'HORARIO_ENTREGA',\n",
    "                                     'CNPJ':'CPF_CNPJ'}, inplace=True) "
   ]
  },
  {
   "cell_type": "code",
   "execution_count": 195,
   "id": "76e3e7ed-83ce-41a6-9b57-4f6a775b1fbf",
   "metadata": {},
   "outputs": [],
   "source": [
    "#modificando as string para maiusculas\n",
    "\n",
    "df_pacotes_entregues['ENTREGADOR'] = df_pacotes_entregues['ENTREGADOR'].str.upper()\n",
    "\n",
    "df_pacotes_entregues['CIDADE'] = df_pacotes_entregues['CIDADE'].str.upper()\n",
    "\n",
    "df_pacotes_entregues['BAIRRO'] = df_pacotes_entregues['BAIRRO'].str.upper()\n",
    "\n",
    "df_pacotes_entregues['DESTINATARIO'] = df_pacotes_entregues['DESTINATARIO'].str.upper()\n",
    "\n",
    "df_pacotes_entregues['ASSINATURA'] = df_pacotes_entregues['ASSINATURA'].str.upper()\n",
    "\n",
    "#df_pacotes_entregues['ENDERECO_COMPLETO'] = df_pacotes_entregues['ENDERECO_COMPLETO'].str.upper()\n",
    "\n"
   ]
  },
  {
   "cell_type": "code",
   "execution_count": 196,
   "id": "bd3a5f95-af2f-4025-8bcf-82481a1c3e59",
   "metadata": {},
   "outputs": [],
   "source": [
    "#Moficando o tipo do atributo para string\n",
    "\n",
    "df_pacotes_entregues['CPF_CNPJ'] = df_pacotes_entregues['CPF_CNPJ'].astype(str)\n",
    "\n",
    "#modifica a virgula por ponto\n",
    "\n",
    "df_pacotes_entregues['VALOR_MERCADORIA'] = df_pacotes_entregues['VALOR_MERCADORIA'].str.replace(',','.')\n",
    "\n",
    "#df_pacotes_entregues['PESO_COBRAVEL'] = df_pacotes_entregues['PESO_COBRAVEL'].str.replace(',','.')\n",
    "\n",
    "#transformando o atributo em float\n",
    "\n",
    "df_pacotes_entregues['VALOR_MERCADORIA'] = df_pacotes_entregues['VALOR_MERCADORIA'].astype(float)\n",
    "\n",
    "#df_pacotes_entregues['PESO_COBRAVEL'] = df_pacotes_entregues['PESO_COBRAVEL'].astype(float)\n"
   ]
  },
  {
   "cell_type": "code",
   "execution_count": 197,
   "id": "38aba437-47f3-4bb1-8c91-a5f107c88ba8",
   "metadata": {},
   "outputs": [],
   "source": [
    "#transformando no tipo datetime\n",
    "df_pacotes_entregues['HORARIO_ENTREGA'] = pd.to_datetime(df_pacotes_entregues['HORARIO_ENTREGA'])\n",
    "\n",
    "#Extrair somente a data\n",
    "df_pacotes_entregues['HORARIO_ENTREGA'] = df_pacotes_entregues['HORARIO_ENTREGA'].dt.date\n",
    "\n",
    "#Transformando novamente para datetime, porque quando extrai somente a data\n",
    "# o atributo é convertido para string(object)\n",
    "\n",
    "df_pacotes_entregues['HORARIO_ENTREGA'] = pd.to_datetime(df_pacotes_entregues['HORARIO_ENTREGA'])\n"
   ]
  },
  {
   "cell_type": "code",
   "execution_count": 198,
   "id": "bc702781-3844-4b53-9ba7-7c56a08550a0",
   "metadata": {},
   "outputs": [
    {
     "data": {
      "text/plain": [
       "(36, 11)"
      ]
     },
     "execution_count": 198,
     "metadata": {},
     "output_type": "execute_result"
    }
   ],
   "source": [
    "#Filtrando somente os valores nulos do atributo 'CEP'\n",
    "#Acima, filtrei somente os nulos e mostra que são multiplos que \n",
    "#não eram para ter aparecido.\n",
    "\n",
    "df_pacotes_nao_entregues = df_pacotes_entregues[df_pacotes_entregues['BAIRRO'].isna()]\n",
    "\n",
    "df_pacotes_nao_entregues.shape"
   ]
  },
  {
   "cell_type": "code",
   "execution_count": 199,
   "id": "b779d24d-09e2-45c7-9f77-3cb8dc5cc354",
   "metadata": {},
   "outputs": [
    {
     "data": {
      "text/plain": [
       "ID_PACOTE           0\n",
       "GALPAO              0\n",
       "CPF_CNPJ            0\n",
       "ENTREGADOR          0\n",
       "ASSINATURA          0\n",
       "VALOR_MERCADORIA    0\n",
       "CEP                 0\n",
       "CIDADE              0\n",
       "BAIRRO              0\n",
       "DESTINATARIO        0\n",
       "HORARIO_ENTREGA     0\n",
       "dtype: int64"
      ]
     },
     "execution_count": 199,
     "metadata": {},
     "output_type": "execute_result"
    }
   ],
   "source": [
    "#Modificando o missings por \"BAIRRO INEXISTENTE'\n",
    "\n",
    "df_pacotes_entregues['BAIRRO'].fillna('BAIRRO INEXISTENTE',inplace=True)\n",
    "\n",
    "#excluindo os valores nulos \n",
    "\n",
    "df_pacotes_entregues_clear = df_pacotes_entregues.dropna(subset=['CEP'])\n",
    "\n",
    "df_pacotes_entregues_clear.isnull().sum()"
   ]
  },
  {
   "cell_type": "code",
   "execution_count": 200,
   "id": "ece73a53-ceed-4ff8-a56d-e250d63c616f",
   "metadata": {},
   "outputs": [
    {
     "data": {
      "text/plain": [
       "ID_PACOTE\n",
       "428030031428439    2\n",
       "428500762428013    2\n",
       "428500764428585    2\n",
       "428030035142855    2\n",
       "428000417428124    2\n",
       "                  ..\n",
       "428500763565449    1\n",
       "428500763500263    1\n",
       "428500763148707    1\n",
       "428500763087745    1\n",
       "428700017754968    1\n",
       "Name: count, Length: 425055, dtype: int64"
      ]
     },
     "execution_count": 200,
     "metadata": {},
     "output_type": "execute_result"
    }
   ],
   "source": [
    "#Verificando se existem pedidos duplicados\n",
    "\n",
    "df_pacotes_entregues_clear['ID_PACOTE'].value_counts()"
   ]
  },
  {
   "cell_type": "code",
   "execution_count": 201,
   "id": "9fe59698-2090-4a79-b125-611729839af4",
   "metadata": {
    "tags": []
   },
   "outputs": [
    {
     "data": {
      "text/plain": [
       "(425055, 11)"
      ]
     },
     "execution_count": 201,
     "metadata": {},
     "output_type": "execute_result"
    }
   ],
   "source": [
    "#Excluindo pedido duplicados\n",
    "\n",
    "df_pacotes_entregues_clear.drop_duplicates(subset=['ID_PACOTE'],inplace=True)\n",
    "\n",
    "#Exibindo a dimensão\n",
    "\n",
    "df_pacotes_entregues_clear.shape"
   ]
  },
  {
   "cell_type": "code",
   "execution_count": 202,
   "id": "986f5829-0178-447e-a302-6e74060edfd2",
   "metadata": {},
   "outputs": [
    {
     "name": "stdout",
     "output_type": "stream",
     "text": [
      "<class 'pandas.core.frame.DataFrame'>\n",
      "Index: 425055 entries, 0 to 425088\n",
      "Data columns (total 11 columns):\n",
      " #   Column            Non-Null Count   Dtype         \n",
      "---  ------            --------------   -----         \n",
      " 0   ID_PACOTE         425055 non-null  int64         \n",
      " 1   GALPAO            425055 non-null  object        \n",
      " 2   CPF_CNPJ          425055 non-null  object        \n",
      " 3   ENTREGADOR        425055 non-null  object        \n",
      " 4   ASSINATURA        425055 non-null  object        \n",
      " 5   VALOR_MERCADORIA  425055 non-null  float64       \n",
      " 6   CEP               425055 non-null  int64         \n",
      " 7   CIDADE            425055 non-null  object        \n",
      " 8   BAIRRO            425055 non-null  object        \n",
      " 9   DESTINATARIO      425055 non-null  object        \n",
      " 10  HORARIO_ENTREGA   425055 non-null  datetime64[ns]\n",
      "dtypes: datetime64[ns](1), float64(1), int64(2), object(7)\n",
      "memory usage: 38.9+ MB\n"
     ]
    }
   ],
   "source": [
    "#Exibindos as informaçoes do dataframe\n",
    "df_pacotes_entregues_clear.info()"
   ]
  },
  {
   "cell_type": "code",
   "execution_count": 203,
   "id": "d6c64180-8ca6-4d6f-9119-4318bb284734",
   "metadata": {},
   "outputs": [],
   "source": [
    "#Exportando os dataframe para csv\n",
    "\n",
    "df_pacotes_entregues_clear.to_csv('./pacotes_entregues_01_08022024_processado.csv',encoding='utf-8', index=False)\n",
    "\n",
    "# exportando os pacotes não entregue\n",
    "\n",
    "df_pacotes_nao_entregues.to_csv('./pacotes_nao_entregues_01_08022024_processado.csv',encoding='utf-8', index=False)"
   ]
  },
  {
   "cell_type": "markdown",
   "id": "e40040ee-48ea-4157-922b-f3aa53c0063c",
   "metadata": {},
   "source": [
    "Inicio do tratamento do dataframe agregados\n"
   ]
  },
  {
   "cell_type": "code",
   "execution_count": 204,
   "id": "f3eadc34-8d75-4c01-bc48-15e16d951f57",
   "metadata": {},
   "outputs": [
    {
     "data": {
      "text/plain": [
       "(6717, 6)"
      ]
     },
     "execution_count": 204,
     "metadata": {},
     "output_type": "execute_result"
    }
   ],
   "source": [
    "#dataset motorista\n",
    "df_agregado = pd.read_csv('./agregados.csv',delimiter=';')\n",
    "\n",
    "#Verificando a dimensão\n",
    "df_agregado.shape"
   ]
  },
  {
   "cell_type": "code",
   "execution_count": 205,
   "id": "79a5d320-dd3d-4ae5-a2ea-29300109055b",
   "metadata": {
    "tags": []
   },
   "outputs": [
    {
     "name": "stdout",
     "output_type": "stream",
     "text": [
      "<class 'pandas.core.frame.DataFrame'>\n",
      "RangeIndex: 6717 entries, 0 to 6716\n",
      "Data columns (total 6 columns):\n",
      " #   Column          Non-Null Count  Dtype \n",
      "---  ------          --------------  ----- \n",
      " 0   PLACA           6717 non-null   object\n",
      " 1   BASE_VINCULADO  6710 non-null   object\n",
      " 2   TIPO_VEICULO    6717 non-null   object\n",
      " 3   MARCA_VEICULO   6717 non-null   object\n",
      " 4   AGREGADO        6717 non-null   object\n",
      " 5   CPF_CNPJ        6717 non-null   int64 \n",
      "dtypes: int64(1), object(5)\n",
      "memory usage: 315.0+ KB\n"
     ]
    }
   ],
   "source": [
    "df_agregado.info()"
   ]
  },
  {
   "cell_type": "code",
   "execution_count": 206,
   "id": "e2a470ce-6774-40cd-b870-b1a2b6658965",
   "metadata": {},
   "outputs": [],
   "source": [
    "#Exibindo somente as colunas selecionadas\n",
    "df_agregados_colunas = df_agregado.loc[:,['TIPO_VEICULO','AGREGADO','CPF_CNPJ']]"
   ]
  },
  {
   "cell_type": "code",
   "execution_count": 207,
   "id": "6a6b4f93-99e3-41cc-a0c3-c7b67c9ae2d2",
   "metadata": {},
   "outputs": [],
   "source": [
    "#Renomeando os atributos\n",
    "\n",
    "#df_agregados_colunas.rename(columns={'Nome de tipo de veículo':'TIPO_VEICULO',\n",
    "#                                     'Nome do condutor':'ENTREGADOR',\n",
    "#                                     'CPF':'CPF_CNPJ'},inplace=True)"
   ]
  },
  {
   "cell_type": "code",
   "execution_count": 208,
   "id": "87252a33-0044-41c1-967d-faadf33061d3",
   "metadata": {},
   "outputs": [
    {
     "data": {
      "text/plain": [
       "0"
      ]
     },
     "execution_count": 208,
     "metadata": {},
     "output_type": "execute_result"
    }
   ],
   "source": [
    "#excluíndo cpf duplicados\n",
    "\n",
    "df_agregados_colunas.duplicated(subset=['CPF_CNPJ']).sum()"
   ]
  },
  {
   "cell_type": "code",
   "execution_count": 209,
   "id": "9d267934-9adb-4768-82a0-9b9706d25a11",
   "metadata": {},
   "outputs": [],
   "source": [
    "#Armazenando os CPF duplicados e logo apos a exclusão.\n",
    "df_agregados_duplicado = df_agregados_colunas[df_agregados_colunas.duplicated(subset=['CPF_CNPJ'])]\n",
    "\n",
    "# Excluíndo as linhas duplicadas\n",
    "\n",
    "df_agregados_clean = df_agregados_colunas.drop_duplicates(subset=['CPF_CNPJ'])\n",
    "\n",
    "#Exibindo as dimensão\n"
   ]
  },
  {
   "cell_type": "code",
   "execution_count": 210,
   "id": "67f374bc-c951-45cc-9586-cfdd84e57a9c",
   "metadata": {},
   "outputs": [],
   "source": [
    "#Verificando o que são os missings\n",
    "#df_agregados_clean[df_agregados_clean['NOME_BASE'].isna()]"
   ]
  },
  {
   "cell_type": "code",
   "execution_count": 211,
   "id": "fd49219e-1d2d-4be1-a4ff-7c8d63f9f663",
   "metadata": {},
   "outputs": [],
   "source": [
    "#Modificando os missings para 'RJ' somente para ter uma base vinculada\n",
    "#df_agregados_clean['NOME_BASE'].fillna('RJ',inplace=True)\n",
    "\n",
    "#Verificando se existe missings\n",
    "#df_agregados_clean.isnull().sum()"
   ]
  },
  {
   "cell_type": "code",
   "execution_count": 212,
   "id": "8de56892-3f4a-401e-96a7-1b67e1867714",
   "metadata": {},
   "outputs": [
    {
     "data": {
      "text/plain": [
       "array(['CARRO', 'MOTO', 'BIKE'], dtype=object)"
      ]
     },
     "execution_count": 212,
     "metadata": {},
     "output_type": "execute_result"
    }
   ],
   "source": [
    "#Verificando os tidos de veículos\n",
    "df_agregados_clean['TIPO_VEICULO'].unique()"
   ]
  },
  {
   "cell_type": "code",
   "execution_count": 213,
   "id": "dd76ad34-82c2-4cd1-92bc-cbe4119907db",
   "metadata": {},
   "outputs": [],
   "source": [
    "# Alterando os nomes do Veículos para ter somente CARRO e MOTO\n",
    "\n",
    "df_agregados_clean['TIPO_VEICULO'] = df_agregados_clean['TIPO_VEICULO'].replace('FIORINO','CARRO')\n",
    "\n",
    "df_agregados_clean['TIPO_VEICULO'] = df_agregados_clean['TIPO_VEICULO'].replace('PASSEIO','CARRO')\n",
    "\n",
    "df_agregados_clean['TIPO_VEICULO'] = df_agregados_clean['TIPO_VEICULO'].replace('Utilitário','CARRO')\n",
    "\n",
    "df_agregados_clean['TIPO_VEICULO'] = df_agregados_clean['TIPO_VEICULO'].replace('HR-Furgão','CARRO')\n",
    "\n",
    "df_agregados_clean['TIPO_VEICULO'] = df_agregados_clean['TIPO_VEICULO'].replace('Truck','CARRO')\n",
    "\n",
    "df_agregados_clean['TIPO_VEICULO'] = df_agregados_clean['TIPO_VEICULO'].replace('Camionete','CARRO')\n",
    "\n",
    "df_agregados_clean['TIPO_VEICULO'] = df_agregados_clean['TIPO_VEICULO'].replace('Furgao','CARRO')\n",
    "\n",
    "df_agregados_clean['TIPO_VEICULO'] = df_agregados_clean['TIPO_VEICULO'].replace('Furgao','CARRO')\n",
    "\n",
    "df_agregados_clean['TIPO_VEICULO'] = df_agregados_clean['TIPO_VEICULO'].replace('VUC','CARRO')\n",
    "\n",
    "df_agregados_clean['TIPO_VEICULO'] = df_agregados_clean['TIPO_VEICULO'].replace('3/4','CARRO')\n",
    "\n",
    "df_agregados_clean['TIPO_VEICULO'] = df_agregados_clean['TIPO_VEICULO'].replace('Baú','CARRO')\n",
    "\n",
    "df_agregados_clean['TIPO_VEICULO'] = df_agregados_clean['TIPO_VEICULO'].replace('VAN','CARRO')\n",
    "\n",
    "df_agregados_clean['TIPO_VEICULO'] = df_agregados_clean['TIPO_VEICULO'].replace('Moto','MOTO')"
   ]
  },
  {
   "cell_type": "code",
   "execution_count": 214,
   "id": "22ae7b39-b7d8-469b-8b41-b2c7d47ebb9b",
   "metadata": {
    "tags": []
   },
   "outputs": [
    {
     "name": "stdout",
     "output_type": "stream",
     "text": [
      "<class 'pandas.core.frame.DataFrame'>\n",
      "RangeIndex: 6717 entries, 0 to 6716\n",
      "Data columns (total 3 columns):\n",
      " #   Column        Non-Null Count  Dtype \n",
      "---  ------        --------------  ----- \n",
      " 0   TIPO_VEICULO  6717 non-null   object\n",
      " 1   AGREGADO      6717 non-null   object\n",
      " 2   CPF_CNPJ      6717 non-null   int64 \n",
      "dtypes: int64(1), object(2)\n",
      "memory usage: 157.6+ KB\n"
     ]
    }
   ],
   "source": [
    "#Mostrando as informações do dataframe\n",
    "\n",
    "df_agregados_clean.info()"
   ]
  },
  {
   "cell_type": "code",
   "execution_count": 215,
   "id": "db0e05ab-8ff0-4024-b25b-e8d2e0fe68a2",
   "metadata": {},
   "outputs": [],
   "source": [
    "#Buscando os agregados que são tipo bike e estão especificados no nome.\n",
    "#.loc serve para mostrar somente o atributos especifico\n",
    "#str.contains('BIKE') -> Busca por essa palavras em uma string dentro do atributos\n",
    "#,(TIPO_VEICULO)] = 'BIKE' -> Muda as linha que está na pesquisa em um nome especificado 'BIKE'\n",
    "\n",
    "\n",
    "df_agregados_clean.loc[df_agregados_clean['AGREGADO'].str.contains('BIKE'), 'TIPO_VEICULO'] = 'BIKE'"
   ]
  },
  {
   "cell_type": "code",
   "execution_count": 216,
   "id": "877eb7c6-c6f6-4f3a-88bd-95eca9d8a44e",
   "metadata": {},
   "outputs": [
    {
     "data": {
      "text/plain": [
       "0"
      ]
     },
     "execution_count": 216,
     "metadata": {},
     "output_type": "execute_result"
    }
   ],
   "source": [
    "#Verificando se existe duplicados\n",
    "df_agregados_clean.duplicated(subset=['CPF_CNPJ']).sum()"
   ]
  },
  {
   "cell_type": "code",
   "execution_count": 217,
   "id": "8cd76e5d-e31f-440a-8ff0-a2e68f73cf18",
   "metadata": {},
   "outputs": [
    {
     "data": {
      "text/plain": [
       "(6717, 3)"
      ]
     },
     "execution_count": 217,
     "metadata": {},
     "output_type": "execute_result"
    }
   ],
   "source": [
    "#VErificando a dimensão - A quantidade de linhas e colunas.\n",
    "df_agregados_clean.shape"
   ]
  },
  {
   "cell_type": "code",
   "execution_count": 218,
   "id": "101e3e5b-20e7-443c-ba43-dc52e5ae635d",
   "metadata": {},
   "outputs": [],
   "source": [
    "df_agregados_clean.to_csv('entregador_motorista_processado.csv',encoding='utf-8',index=False)"
   ]
  },
  {
   "cell_type": "code",
   "execution_count": 219,
   "id": "1cfdcfd7-a12d-4b15-b54a-4202fdd44c18",
   "metadata": {
    "tags": []
   },
   "outputs": [],
   "source": [
    "#Transformando do tipo do atributo 'CPF_CNPJ' para string e apos realizar o join\n",
    "df_agregados_clean['CPF_CNPJ'] = df_agregados_clean['CPF_CNPJ'].astype(str)"
   ]
  },
  {
   "cell_type": "code",
   "execution_count": 220,
   "id": "cb434abf-a49c-4984-b689-ade0b40b925c",
   "metadata": {},
   "outputs": [
    {
     "data": {
      "text/plain": [
       "(425055, 13)"
      ]
     },
     "execution_count": 220,
     "metadata": {},
     "output_type": "execute_result"
    }
   ],
   "source": [
    "#Fazendo o Join  entre o dataframe df_pacotes X df_agregados\n",
    "\n",
    "df_pacotes_agregados = pd.merge(df_pacotes_entregues_clear,df_agregados_clean,on=['CPF_CNPJ'],how='left')\n",
    "                                \n",
    "df_pacotes_agregados.shape"
   ]
  },
  {
   "cell_type": "code",
   "execution_count": 221,
   "id": "46179159-2d75-4de7-8d21-285369e2392d",
   "metadata": {
    "tags": []
   },
   "outputs": [
    {
     "name": "stdout",
     "output_type": "stream",
     "text": [
      "<class 'pandas.core.frame.DataFrame'>\n",
      "RangeIndex: 425055 entries, 0 to 425054\n",
      "Data columns (total 13 columns):\n",
      " #   Column            Non-Null Count   Dtype         \n",
      "---  ------            --------------   -----         \n",
      " 0   ID_PACOTE         425055 non-null  int64         \n",
      " 1   GALPAO            425055 non-null  object        \n",
      " 2   CPF_CNPJ          425055 non-null  object        \n",
      " 3   ENTREGADOR        425055 non-null  object        \n",
      " 4   ASSINATURA        425055 non-null  object        \n",
      " 5   VALOR_MERCADORIA  425055 non-null  float64       \n",
      " 6   CEP               425055 non-null  int64         \n",
      " 7   CIDADE            425055 non-null  object        \n",
      " 8   BAIRRO            425055 non-null  object        \n",
      " 9   DESTINATARIO      425055 non-null  object        \n",
      " 10  HORARIO_ENTREGA   425055 non-null  datetime64[ns]\n",
      " 11  TIPO_VEICULO      392246 non-null  object        \n",
      " 12  AGREGADO          392246 non-null  object        \n",
      "dtypes: datetime64[ns](1), float64(1), int64(2), object(9)\n",
      "memory usage: 42.2+ MB\n"
     ]
    }
   ],
   "source": [
    "#Exibindo as info da dataframe\n",
    "\n",
    "df_pacotes_agregados.info()"
   ]
  },
  {
   "cell_type": "code",
   "execution_count": 223,
   "id": "ebf19a9b-352d-4ac3-8ec9-cadff86d49b0",
   "metadata": {},
   "outputs": [
    {
     "name": "stdout",
     "output_type": "stream",
     "text": [
      "<class 'pandas.core.frame.DataFrame'>\n",
      "RangeIndex: 425055 entries, 0 to 425054\n",
      "Data columns (total 12 columns):\n",
      " #   Column            Non-Null Count   Dtype         \n",
      "---  ------            --------------   -----         \n",
      " 0   ID_PACOTE         425055 non-null  int64         \n",
      " 1   GALPAO            425055 non-null  object        \n",
      " 2   CPF_CNPJ          425055 non-null  object        \n",
      " 3   ENTREGADOR        425055 non-null  object        \n",
      " 4   ASSINATURA        425055 non-null  object        \n",
      " 5   VALOR_MERCADORIA  425055 non-null  float64       \n",
      " 6   CEP               425055 non-null  int64         \n",
      " 7   CIDADE            425055 non-null  object        \n",
      " 8   BAIRRO            425055 non-null  object        \n",
      " 9   DESTINATARIO      425055 non-null  object        \n",
      " 10  HORARIO_ENTREGA   425055 non-null  datetime64[ns]\n",
      " 11  TIPO_VEICULO      392246 non-null  object        \n",
      "dtypes: datetime64[ns](1), float64(1), int64(2), object(8)\n",
      "memory usage: 38.9+ MB\n"
     ]
    }
   ],
   "source": [
    "#Excluindo a colunas que replicou\n",
    "\n",
    "#df_pacotes_agregados.drop(['AGREGADO_y'],axis=1,inplace=True)\n",
    "\n",
    "df_pacotes_agregados.drop(['AGREGADO'],inplace=True,axis=1)\n",
    "#Modificando o nome da colunas\n",
    "#df_pacotes_agregados.rename(columns={'AGREGADO_x':'AGREGADO'},inplace=True)\n",
    "\n",
    "#Exibindo as informações do dataframe\n",
    "\n",
    "df_pacotes_agregados.info()\n"
   ]
  },
  {
   "cell_type": "code",
   "execution_count": 224,
   "id": "81c87161-4876-4ada-a8c6-893402736cf9",
   "metadata": {},
   "outputs": [
    {
     "data": {
      "text/html": [
       "<div>\n",
       "<style scoped>\n",
       "    .dataframe tbody tr th:only-of-type {\n",
       "        vertical-align: middle;\n",
       "    }\n",
       "\n",
       "    .dataframe tbody tr th {\n",
       "        vertical-align: top;\n",
       "    }\n",
       "\n",
       "    .dataframe thead th {\n",
       "        text-align: right;\n",
       "    }\n",
       "</style>\n",
       "<table border=\"1\" class=\"dataframe\">\n",
       "  <thead>\n",
       "    <tr style=\"text-align: right;\">\n",
       "      <th></th>\n",
       "      <th>CIDADE</th>\n",
       "      <th>BAIRRO</th>\n",
       "      <th>TIPO_VEICULO</th>\n",
       "      <th>VALOR</th>\n",
       "    </tr>\n",
       "  </thead>\n",
       "  <tbody>\n",
       "    <tr>\n",
       "      <th>0</th>\n",
       "      <td>NOVA IGUAÇU</td>\n",
       "      <td>BAIRRO DESCONHECIDO</td>\n",
       "      <td>CARRO</td>\n",
       "      <td>1,6</td>\n",
       "    </tr>\n",
       "    <tr>\n",
       "      <th>1</th>\n",
       "      <td>NOVA IGUAÇU</td>\n",
       "      <td>KM 31</td>\n",
       "      <td>CARRO</td>\n",
       "      <td>3,5</td>\n",
       "    </tr>\n",
       "    <tr>\n",
       "      <th>2</th>\n",
       "      <td>QUEIMADOS</td>\n",
       "      <td>BAIRRO DESCONHECIDO</td>\n",
       "      <td>CARRO</td>\n",
       "      <td>1,6</td>\n",
       "    </tr>\n",
       "    <tr>\n",
       "      <th>3</th>\n",
       "      <td>MESQUITA</td>\n",
       "      <td>BAIRRO DESCONHECIDO</td>\n",
       "      <td>CARRO</td>\n",
       "      <td>1,6</td>\n",
       "    </tr>\n",
       "    <tr>\n",
       "      <th>4</th>\n",
       "      <td>JAPERI</td>\n",
       "      <td>BAIRRO DESCONHECIDO</td>\n",
       "      <td>CARRO</td>\n",
       "      <td>3</td>\n",
       "    </tr>\n",
       "  </tbody>\n",
       "</table>\n",
       "</div>"
      ],
      "text/plain": [
       "        CIDADE               BAIRRO TIPO_VEICULO VALOR\n",
       "0  NOVA IGUAÇU  BAIRRO DESCONHECIDO        CARRO   1,6\n",
       "1  NOVA IGUAÇU                KM 31        CARRO   3,5\n",
       "2    QUEIMADOS  BAIRRO DESCONHECIDO        CARRO   1,6\n",
       "3     MESQUITA  BAIRRO DESCONHECIDO        CARRO   1,6\n",
       "4       JAPERI  BAIRRO DESCONHECIDO        CARRO     3"
      ]
     },
     "execution_count": 224,
     "metadata": {},
     "output_type": "execute_result"
    }
   ],
   "source": [
    "#Importando o dataset que contém os valores\n",
    "df_valores = pd.read_csv('./precificacao_080224.csv', encoding='ISO8859-1' ,delimiter=';')\n",
    "\n",
    "#Modificando o tipo do bairro\n",
    "\n",
    "df_valores['BAIRRO'].replace('BAIRRO INEXISTENTE','BAIRRO DESCONHECIDO',inplace=True)\n",
    "\n",
    "#Exibindo o dataframe\n",
    "\n",
    "df_valores.head()"
   ]
  },
  {
   "cell_type": "code",
   "execution_count": null,
   "id": "f89ad316-428c-41f3-868f-52145d555302",
   "metadata": {},
   "outputs": [],
   "source": []
  },
  {
   "cell_type": "code",
   "execution_count": 225,
   "id": "2c1f2139-d2a3-4521-a7b6-680e199ce663",
   "metadata": {},
   "outputs": [],
   "source": [
    "#Realizando um Join com o dataframe de valores\n",
    "\n",
    "df_pacotes_full = pd.merge(df_pacotes_agregados,df_valores,on=['CIDADE','BAIRRO','TIPO_VEICULO'],how='left')\n"
   ]
  },
  {
   "cell_type": "code",
   "execution_count": 226,
   "id": "15c29d28-7133-4115-b6d4-3486ae686559",
   "metadata": {},
   "outputs": [],
   "source": [
    "#Filtrando os pacotes nulos\n",
    "\n",
    "df_nulos = df_pacotes_full[df_pacotes_full['VALOR'].isna()]\n"
   ]
  },
  {
   "cell_type": "code",
   "execution_count": 227,
   "id": "c460bc00-c60e-4640-883b-9b71547f79ba",
   "metadata": {},
   "outputs": [],
   "source": [
    "#Excluíndo os atributos para realizar um novo join\n",
    "\n",
    "df_nulos.drop(['VALOR'],axis=1,inplace=True)\n"
   ]
  },
  {
   "cell_type": "code",
   "execution_count": 228,
   "id": "079f923d-5911-4afe-be8c-82fac862a103",
   "metadata": {},
   "outputs": [],
   "source": [
    "#Realizando o JOin com os pedidos que não possuem bairros cadastrados\n",
    "\n",
    "df_nulos_proc = pd.merge(df_nulos,df_valores,on=['CIDADE','TIPO_VEICULO'],how='left')\n",
    "\n",
    "#Excluí os duplicados\n",
    "\n",
    "df_nulos_proc.drop_duplicates(subset=['ID_PACOTE'],inplace=True)\n",
    "\n"
   ]
  },
  {
   "cell_type": "code",
   "execution_count": 229,
   "id": "e2959fc8-412b-4805-aeaf-657e7992c796",
   "metadata": {},
   "outputs": [],
   "source": [
    "#Excluíndo o atributo duplicado\n",
    "\n",
    "df_nulos_proc.drop(['BAIRRO_y'],axis=1,inplace=True)\n",
    "\n",
    "#modificando o nome do atributo\n",
    "\n",
    "df_nulos_proc.rename(columns={'BAIRRO_x':'BAIRRO'},inplace=True)\n"
   ]
  },
  {
   "cell_type": "code",
   "execution_count": 230,
   "id": "66a81fbc-a13f-4ce0-ab46-d77430351a6f",
   "metadata": {},
   "outputs": [],
   "source": [
    "#Excluído valores nulos do atributo 'VALOR'\n",
    "df_pacotes_full.dropna(subset=['VALOR'],inplace=True)\n"
   ]
  },
  {
   "cell_type": "code",
   "execution_count": 231,
   "id": "2dff5c64-83b5-4637-8945-d165b62fcd2c",
   "metadata": {
    "tags": []
   },
   "outputs": [
    {
     "name": "stdout",
     "output_type": "stream",
     "text": [
      "<class 'pandas.core.frame.DataFrame'>\n",
      "Index: 76292 entries, 45 to 426213\n",
      "Data columns (total 13 columns):\n",
      " #   Column            Non-Null Count  Dtype         \n",
      "---  ------            --------------  -----         \n",
      " 0   ID_PACOTE         76292 non-null  int64         \n",
      " 1   GALPAO            76292 non-null  object        \n",
      " 2   CPF_CNPJ          76292 non-null  object        \n",
      " 3   ENTREGADOR        76292 non-null  object        \n",
      " 4   ASSINATURA        76292 non-null  object        \n",
      " 5   VALOR_MERCADORIA  76292 non-null  float64       \n",
      " 6   CEP               76292 non-null  int64         \n",
      " 7   CIDADE            76292 non-null  object        \n",
      " 8   BAIRRO            76292 non-null  object        \n",
      " 9   DESTINATARIO      76292 non-null  object        \n",
      " 10  HORARIO_ENTREGA   76292 non-null  datetime64[ns]\n",
      " 11  TIPO_VEICULO      76292 non-null  object        \n",
      " 12  VALOR             76292 non-null  object        \n",
      "dtypes: datetime64[ns](1), float64(1), int64(2), object(9)\n",
      "memory usage: 8.1+ MB\n"
     ]
    }
   ],
   "source": [
    "df_pacotes_full.info()"
   ]
  },
  {
   "cell_type": "code",
   "execution_count": 233,
   "id": "566c8dbb-76c2-4253-bcf9-e819ee909f69",
   "metadata": {},
   "outputs": [],
   "source": [
    "#excluído os atributos\n",
    "\n",
    "#df_pacotes_full.drop(['PLACA','BASE_ENTREGA_y','NOME_BASE'],axis=1,inplace=True)\n",
    "\n",
    "#Renomear o atributo BASE_ENTREGA_X\n",
    "\n",
    "#df_pacotes_full.rename(columns={'BASE_ENTREGA_x':'BASE_ENTREGA'},inplace=True)\n"
   ]
  },
  {
   "cell_type": "code",
   "execution_count": 234,
   "id": "7ce95456-c209-47ed-8f75-83580a4726cf",
   "metadata": {},
   "outputs": [],
   "source": [
    "#Concatenando\n",
    "\n",
    "df_fechamento_full = pd.concat([df_pacotes_full,df_nulos_proc])\n"
   ]
  },
  {
   "cell_type": "code",
   "execution_count": 235,
   "id": "f23fdf34-b291-47fd-959c-cd5200c97ac5",
   "metadata": {},
   "outputs": [
    {
     "data": {
      "text/plain": [
       "ID_PACOTE\n",
       "428500774222762    2\n",
       "428030034646363    2\n",
       "428030033038640    2\n",
       "428000423451174    2\n",
       "428030034622167    2\n",
       "                  ..\n",
       "428500775360965    1\n",
       "428500775352105    1\n",
       "428500775344281    1\n",
       "428500775343095    1\n",
       "428700016916209    1\n",
       "Name: count, Length: 425055, dtype: int64"
      ]
     },
     "execution_count": 235,
     "metadata": {},
     "output_type": "execute_result"
    }
   ],
   "source": [
    "#Verificacao de mnulos\n",
    "\n",
    "df_fechamento_full['ID_PACOTE'].value_counts()"
   ]
  },
  {
   "cell_type": "code",
   "execution_count": 236,
   "id": "3749f442-c410-429d-9e75-12f1e1c4651a",
   "metadata": {},
   "outputs": [],
   "source": [
    "#Excluíndo os duplicados\n",
    "\n",
    "df_fechamento_full.drop_duplicates(subset=['ID_PACOTE'],inplace=True)\n"
   ]
  },
  {
   "cell_type": "code",
   "execution_count": 238,
   "id": "f2e52f27-f52f-4d91-8e1f-769709be3c2d",
   "metadata": {
    "tags": []
   },
   "outputs": [
    {
     "name": "stdout",
     "output_type": "stream",
     "text": [
      "<class 'pandas.core.frame.DataFrame'>\n",
      "Index: 425055 entries, 45 to 5237737\n",
      "Data columns (total 13 columns):\n",
      " #   Column            Non-Null Count   Dtype         \n",
      "---  ------            --------------   -----         \n",
      " 0   ID_PACOTE         425055 non-null  int64         \n",
      " 1   GALPAO            425055 non-null  object        \n",
      " 2   CPF_CNPJ          425055 non-null  object        \n",
      " 3   ENTREGADOR        425055 non-null  object        \n",
      " 4   ASSINATURA        425055 non-null  object        \n",
      " 5   VALOR_MERCADORIA  425055 non-null  float64       \n",
      " 6   CEP               425055 non-null  int64         \n",
      " 7   CIDADE            425055 non-null  object        \n",
      " 8   BAIRRO            425055 non-null  object        \n",
      " 9   DESTINATARIO      425055 non-null  object        \n",
      " 10  HORARIO_ENTREGA   425055 non-null  datetime64[ns]\n",
      " 11  TIPO_VEICULO      392246 non-null  object        \n",
      " 12  VALOR             392241 non-null  object        \n",
      "dtypes: datetime64[ns](1), float64(1), int64(2), object(9)\n",
      "memory usage: 45.4+ MB\n"
     ]
    }
   ],
   "source": [
    "df_fechamento_full.info()"
   ]
  },
  {
   "cell_type": "code",
   "execution_count": 239,
   "id": "c8ce2d00-706e-480b-b06d-28f59071153f",
   "metadata": {},
   "outputs": [],
   "source": [
    "#Excluíndo atributos desnecessários.\n",
    "\n",
    "#df_fechamento_full.drop(['BASE_ENTREGA_x','BASE_ENTREGA_y'],axis=1,inplace=True)\n"
   ]
  },
  {
   "cell_type": "code",
   "execution_count": 242,
   "id": "a2d7bfb9-3440-4f0b-a441-5876e5195cbf",
   "metadata": {
    "tags": []
   },
   "outputs": [
    {
     "data": {
      "text/plain": [
       "(425055, 13)"
      ]
     },
     "execution_count": 242,
     "metadata": {},
     "output_type": "execute_result"
    }
   ],
   "source": [
    "df_fechamento_full.shape"
   ]
  },
  {
   "cell_type": "code",
   "execution_count": 243,
   "id": "01a5b9d3-bf6c-4de4-863a-2c0b68d045ce",
   "metadata": {
    "tags": []
   },
   "outputs": [],
   "source": [
    "#Exportando para csv\n",
    "\n",
    "df_fechamento_full.to_csv('FEVEREIRO_proc.csv',encoding='utf-8',index=False)"
   ]
  }
 ],
 "metadata": {
  "kernelspec": {
   "display_name": "Python 3 (ipykernel)",
   "language": "python",
   "name": "python3"
  },
  "language_info": {
   "codemirror_mode": {
    "name": "ipython",
    "version": 3
   },
   "file_extension": ".py",
   "mimetype": "text/x-python",
   "name": "python",
   "nbconvert_exporter": "python",
   "pygments_lexer": "ipython3",
   "version": "3.9.13"
  }
 },
 "nbformat": 4,
 "nbformat_minor": 5
}
